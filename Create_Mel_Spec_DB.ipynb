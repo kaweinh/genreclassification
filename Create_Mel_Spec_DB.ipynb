{
 "cells": [
  {
   "cell_type": "code",
   "execution_count": 1,
   "metadata": {},
   "outputs": [
    {
     "name": "stdout",
     "output_type": "stream",
     "text": [
      "Collecting librosa==0.7.0\n",
      "\u001b[?25l  Downloading https://files.pythonhosted.org/packages/ad/6e/0eb0de1c9c4e02df0b40e56f258eb79bd957be79b918511a184268e01720/librosa-0.7.0.tar.gz (1.6MB)\n",
      "\u001b[K    100% |████████████████████████████████| 1.6MB 18.5MB/s ta 0:00:01\n",
      "\u001b[?25hCollecting audioread>=2.0.0 (from librosa==0.7.0)\n",
      "  Downloading https://files.pythonhosted.org/packages/2e/0b/940ea7861e0e9049f09dcfd72a90c9ae55f697c17c299a323f0148f913d2/audioread-2.1.8.tar.gz\n",
      "Requirement already satisfied: numpy>=1.15.0 in /home/ubuntu/anaconda3/envs/tensorflow_p36/lib/python3.6/site-packages (from librosa==0.7.0) (1.15.4)\n",
      "Requirement already satisfied: scipy>=1.0.0 in /home/ubuntu/anaconda3/envs/tensorflow_p36/lib/python3.6/site-packages (from librosa==0.7.0) (1.1.0)\n",
      "Requirement already satisfied: scikit-learn!=0.19.0,>=0.14.0 in /home/ubuntu/anaconda3/envs/tensorflow_p36/lib/python3.6/site-packages (from librosa==0.7.0) (0.20.3)\n",
      "Collecting joblib>=0.12 (from librosa==0.7.0)\n",
      "\u001b[?25l  Downloading https://files.pythonhosted.org/packages/8f/42/155696f85f344c066e17af287359c9786b436b1bf86029bb3411283274f3/joblib-0.14.0-py2.py3-none-any.whl (294kB)\n",
      "\u001b[K    100% |████████████████████████████████| 296kB 38.1MB/s ta 0:00:01\n",
      "\u001b[?25hRequirement already satisfied: decorator>=3.0.0 in /home/ubuntu/anaconda3/envs/tensorflow_p36/lib/python3.6/site-packages (from librosa==0.7.0) (4.3.0)\n",
      "Requirement already satisfied: six>=1.3 in /home/ubuntu/anaconda3/envs/tensorflow_p36/lib/python3.6/site-packages (from librosa==0.7.0) (1.11.0)\n",
      "Collecting resampy>=0.2.0 (from librosa==0.7.0)\n",
      "\u001b[?25l  Downloading https://files.pythonhosted.org/packages/79/75/e22272b9c2185fc8f3af6ce37229708b45e8b855fd4bc38b4d6b040fff65/resampy-0.2.2.tar.gz (323kB)\n",
      "\u001b[K    100% |████████████████████████████████| 327kB 40.0MB/s ta 0:00:01\n",
      "\u001b[?25hRequirement already satisfied: numba>=0.38.0 in /home/ubuntu/anaconda3/envs/tensorflow_p36/lib/python3.6/site-packages (from librosa==0.7.0) (0.38.0)\n",
      "Collecting soundfile>=0.9.0 (from librosa==0.7.0)\n",
      "  Downloading https://files.pythonhosted.org/packages/68/64/1191352221e2ec90db7492b4bf0c04fd9d2508de67b3f39cbf093cd6bd86/SoundFile-0.10.2-py2.py3-none-any.whl\n",
      "Requirement already satisfied: llvmlite>=0.23.0dev0 in /home/ubuntu/anaconda3/envs/tensorflow_p36/lib/python3.6/site-packages (from numba>=0.38.0->librosa==0.7.0) (0.23.1)\n",
      "Requirement already satisfied: cffi>=1.0 in /home/ubuntu/anaconda3/envs/tensorflow_p36/lib/python3.6/site-packages (from soundfile>=0.9.0->librosa==0.7.0) (1.11.5)\n",
      "Requirement already satisfied: pycparser in /home/ubuntu/anaconda3/envs/tensorflow_p36/lib/python3.6/site-packages (from cffi>=1.0->soundfile>=0.9.0->librosa==0.7.0) (2.18)\n",
      "Building wheels for collected packages: librosa, audioread, resampy\n",
      "  Running setup.py bdist_wheel for librosa ... \u001b[?25ldone\n",
      "\u001b[?25h  Stored in directory: /home/ubuntu/.cache/pip/wheels/49/1d/38/c8ad12fcad67569d8e730c3275be5e581bd589558484a0f881\n",
      "  Running setup.py bdist_wheel for audioread ... \u001b[?25ldone\n",
      "\u001b[?25h  Stored in directory: /home/ubuntu/.cache/pip/wheels/b9/64/09/0b6417df9d8ba8bc61a7d2553c5cebd714ec169644c88fc012\n",
      "  Running setup.py bdist_wheel for resampy ... \u001b[?25ldone\n",
      "\u001b[?25h  Stored in directory: /home/ubuntu/.cache/pip/wheels/fa/c1/56/e0e12c6f7f3d2cdea9712b35136a2d40a7817c6210ec096485\n",
      "Successfully built librosa audioread resampy\n",
      "Installing collected packages: audioread, joblib, resampy, soundfile, librosa\n",
      "Successfully installed audioread-2.1.8 joblib-0.14.0 librosa-0.7.0 resampy-0.2.2 soundfile-0.10.2\n",
      "\u001b[33mYou are using pip version 10.0.1, however version 19.3.1 is available.\n",
      "You should consider upgrading via the 'pip install --upgrade pip' command.\u001b[0m\n",
      "Collecting musdb\n",
      "  Downloading https://files.pythonhosted.org/packages/57/bd/98ba16482f610bcfa7fcc212175dc0bbf11976e0bc69319b4204b6dc3aec/musdb-0.3.1-py2.py3-none-any.whl\n",
      "Collecting stempeg>=0.1.7 (from musdb)\n",
      "\u001b[?25l  Downloading https://files.pythonhosted.org/packages/29/ab/6e7362cbff21c25e99cfc3ef116057a7f9ebe6f429a44038eef82de3479d/stempeg-0.1.8-py3-none-any.whl (509kB)\n",
      "\u001b[K    100% |████████████████████████████████| 512kB 34.8MB/s ta 0:00:01\n",
      "\u001b[?25hCollecting pyaml (from musdb)\n",
      "  Downloading https://files.pythonhosted.org/packages/33/1a/936074f3492156693fc9e471269fc5747fa3b7d9d7f8a33af054f6b24066/pyaml-19.4.1-py2.py3-none-any.whl\n",
      "Requirement already satisfied: soundfile>=0.9.0 in /home/ubuntu/anaconda3/envs/tensorflow_p36/lib/python3.6/site-packages (from musdb) (0.10.2)\n",
      "Requirement already satisfied: numpy>=1.7 in /home/ubuntu/anaconda3/envs/tensorflow_p36/lib/python3.6/site-packages (from musdb) (1.15.4)\n",
      "Collecting tqdm (from musdb)\n",
      "\u001b[?25l  Downloading https://files.pythonhosted.org/packages/b9/08/8505f192efc72bfafec79655e1d8351d219e2b80b0dec4ae71f50934c17a/tqdm-4.38.0-py2.py3-none-any.whl (53kB)\n",
      "\u001b[K    100% |████████████████████████████████| 61kB 32.3MB/s ta 0:00:01\n",
      "\u001b[?25hRequirement already satisfied: PyYAML in /home/ubuntu/anaconda3/envs/tensorflow_p36/lib/python3.6/site-packages (from pyaml->musdb) (3.12)\n",
      "Requirement already satisfied: cffi>=1.0 in /home/ubuntu/anaconda3/envs/tensorflow_p36/lib/python3.6/site-packages (from soundfile>=0.9.0->musdb) (1.11.5)\n",
      "Requirement already satisfied: pycparser in /home/ubuntu/anaconda3/envs/tensorflow_p36/lib/python3.6/site-packages (from cffi>=1.0->soundfile>=0.9.0->musdb) (2.18)\n",
      "Installing collected packages: stempeg, pyaml, tqdm, musdb\n",
      "Successfully installed musdb-0.3.1 pyaml-19.4.1 stempeg-0.1.8 tqdm-4.38.0\n",
      "\u001b[33mYou are using pip version 10.0.1, however version 19.3.1 is available.\n",
      "You should consider upgrading via the 'pip install --upgrade pip' command.\u001b[0m\n"
     ]
    }
   ],
   "source": [
    "!pip install librosa==0.7.0\n",
    "!pip install musdb"
   ]
  },
  {
   "cell_type": "code",
   "execution_count": 2,
   "metadata": {},
   "outputs": [],
   "source": [
    "%matplotlib inline \n",
    "import numpy as np\n",
    "import librosa\n",
    "import librosa.display\n",
    "import musdb\n",
    "import os, os.path\n",
    "import sys\n",
    "import matplotlib.pyplot as plt\n",
    "from PIL import Image\n",
    "import scipy.io.wavfile"
   ]
  },
  {
   "cell_type": "code",
   "execution_count": 6,
   "metadata": {},
   "outputs": [
    {
     "name": "stdout",
     "output_type": "stream",
     "text": [
      "Slicing Song 50..."
     ]
    }
   ],
   "source": [
    "path = '/dltraining/dltraining/datasets/musdb18/'\n",
    "save_path = '/dltraining/dltraining/datasets/mel_spec_db/'\n",
    "duration = 11.87\n",
    "hop_length = 1024\n",
    "n_fft = 4094\n",
    "n_mels = 512\n",
    "sample_rate = 44100\n",
    "samples_per = int(sample_rate * duration)\n",
    "\n",
    "mus_train = musdb.DB(root=path, subsets=\"test\")\n",
    "  \n",
    "for i, track in enumerate(mus_train):\n",
    "    sys.stdout.write(\"\\rSlicing Song {}...\".format(i + 1))\n",
    "    sys.stdout.flush()    \n",
    "    \n",
    "    mix_clip = track.audio\n",
    "    #accomp_clip = track.targets['accompaniment'].audio\n",
    "    vocal_clip = track.targets['vocals'].audio\n",
    "    \n",
    "    total_samples = mix_clip.shape[0]\n",
    "    num_splits = int(total_samples / (duration*sample_rate))\n",
    "    \n",
    "    for j in range(num_splits):\n",
    "        mix_section = mix_clip[(samples_per * j):(samples_per * (j + 1)), :]\n",
    "        #accomp_section = accomp_clip[(samples_per * j):(samples_per * (j + 1)), :]\n",
    "        vocal_section = vocal_clip[(samples_per * j):(samples_per * (j + 1)), :]\n",
    "    \n",
    "        stft = librosa.stft(mix_section[:, 0], n_fft=n_fft, hop_length=hop_length)\n",
    "        stft_mag, stft_phase = librosa.magphase(stft)\n",
    "        mix_stft_db = librosa.amplitude_to_db(stft_mag)\n",
    "    \n",
    "        stft = librosa.stft(vocal_section[:, 0], n_fft=n_fft, hop_length=hop_length)\n",
    "        stft_mag, stft_phase = librosa.magphase(stft)\n",
    "        vocal_stft_db = librosa.amplitude_to_db(stft_mag)   \n",
    "    \n",
    "        mix_mel = librosa.feature.melspectrogram(mix_section[:, 0], n_fft=n_fft, hop_length=hop_length, n_mels=n_mels, sr=sample_rate)\n",
    "        mix_mel_db = librosa.power_to_db(mix_mel)\n",
    "    \n",
    "        vocal_mel = librosa.feature.melspectrogram(vocal_section[:, 0], n_fft=n_fft, hop_length=hop_length, n_mels=n_mels, sr=sample_rate)\n",
    "        vocal_mel_db = librosa.power_to_db(vocal_mel)   \n",
    "  \n",
    "        save_name = save_path + 'Spectrogram/Mix/' + track.name + '_' + str(j)\n",
    "        np.save(save_name, mix_stft_db)\n",
    "    \n",
    "        save_name = save_path + 'Spectrogram/Vocal/' + track.name + '_' + str(j)\n",
    "        np.save(save_name, vocal_stft_db)\n",
    "    \n",
    "        save_name = save_path + 'Mel-Spectrogram/Mix/' + track.name + '_' + str(j)\n",
    "        np.save(save_name, mix_mel_db)\n",
    "    \n",
    "        save_name = save_path + 'Mel-Spectrogram/Vocal/' + track.name + '_' + str(j)\n",
    "        np.save(save_name, vocal_mel_db)\n",
    "    "
   ]
  },
  {
   "cell_type": "code",
   "execution_count": 7,
   "metadata": {},
   "outputs": [
    {
     "name": "stdout",
     "output_type": "stream",
     "text": [
      "5318\n"
     ]
    }
   ],
   "source": [
    "DIR = '/dltraining/dltraining/datasets/mel_spec_db/Spectrogram/Mix'\n",
    "print(2 * len([name for name in os.listdir(DIR) if os.path.isfile(os.path.join(DIR, name))]))"
   ]
  },
  {
   "cell_type": "code",
   "execution_count": null,
   "metadata": {},
   "outputs": [],
   "source": []
  }
 ],
 "metadata": {
  "kernelspec": {
   "display_name": "Environment (conda_tensorflow_p36)",
   "language": "python",
   "name": "conda_tensorflow_p36"
  },
  "language_info": {
   "codemirror_mode": {
    "name": "ipython",
    "version": 3
   },
   "file_extension": ".py",
   "mimetype": "text/x-python",
   "name": "python",
   "nbconvert_exporter": "python",
   "pygments_lexer": "ipython3",
   "version": "3.6.5"
  }
 },
 "nbformat": 4,
 "nbformat_minor": 2
}
